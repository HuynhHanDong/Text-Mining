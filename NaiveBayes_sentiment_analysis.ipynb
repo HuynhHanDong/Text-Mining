{
 "cells": [
  {
   "cell_type": "code",
   "execution_count": null,
   "id": "61f51b05",
   "metadata": {},
   "outputs": [
    {
     "name": "stderr",
     "output_type": "stream",
     "text": [
      "[nltk_data] Downloading package punkt to\n",
      "[nltk_data]     C:\\Users\\HanDong\\AppData\\Roaming\\nltk_data...\n",
      "[nltk_data]   Package punkt is already up-to-date!\n",
      "[nltk_data] Downloading package stopwords to\n",
      "[nltk_data]     C:\\Users\\HanDong\\AppData\\Roaming\\nltk_data...\n",
      "[nltk_data]   Package stopwords is already up-to-date!\n"
     ]
    },
    {
     "data": {
      "text/plain": [
       "True"
      ]
     },
     "execution_count": 1,
     "metadata": {},
     "output_type": "execute_result"
    }
   ],
   "source": [
    "import re\n",
    "import random\n",
    "import nltk\n",
    "from nltk import NaiveBayesClassifier\n",
    "from nltk.corpus import stopwords\n",
    "\n",
    "nltk.download('stopwords')"
   ]
  },
  {
   "cell_type": "code",
   "execution_count": null,
   "id": "3d4c0a3d",
   "metadata": {},
   "outputs": [],
   "source": [
    "def preprocess_text(text):\n",
    "    text = text.lower()\n",
    "    text = re.sub(r'[^a-z\\s]', '', text)\n",
    "    tokens = text.split()\n",
    "    tokens = [word for word in tokens if word not in stopwords.words('english')]\n",
    "    return tokens"
   ]
  },
  {
   "cell_type": "code",
   "execution_count": 3,
   "id": "36791ec6",
   "metadata": {},
   "outputs": [],
   "source": [
    "def build_naive_bayes_classifier(positive_data, negative_data):\n",
    "    dataset = []\n",
    "\n",
    "    for review in positive_data:\n",
    "        words = preprocess_text(review)\n",
    "        dataset.append((dict((word, True) for word in words), 'pos'))\n",
    "\n",
    "    for review in negative_data:\n",
    "        words = preprocess_text(review)\n",
    "        dataset.append((dict((word, True) for word in words), 'neg'))\n",
    "\n",
    "    random.shuffle(dataset)\n",
    "    classifier = NaiveBayesClassifier.train(dataset)\n",
    "    return classifier"
   ]
  },
  {
   "cell_type": "code",
   "execution_count": 4,
   "id": "e15634a4",
   "metadata": {},
   "outputs": [],
   "source": [
    "def predict_sentiments(classifier, test_data):\n",
    "    predictions = []\n",
    "    for review in test_data:\n",
    "        words = preprocess_text(review)\n",
    "        features = dict((word, True) for word in words)\n",
    "        prediction = classifier.classify(features)\n",
    "        predictions.append(prediction)\n",
    "    return predictions"
   ]
  },
  {
   "cell_type": "code",
   "execution_count": 5,
   "id": "dcbc4846",
   "metadata": {},
   "outputs": [],
   "source": [
    "def evaluate_classifier(predictions, true_labels):\n",
    "    correct = sum([pred == label for pred, label in zip(predictions, true_labels)])\n",
    "    accuracy = correct / len(true_labels)\n",
    "    return accuracy"
   ]
  },
  {
   "cell_type": "code",
   "execution_count": 6,
   "id": "a77d2445",
   "metadata": {},
   "outputs": [],
   "source": [
    "# Dataset\n",
    "positive_reviews = [\n",
    "\"I loved the movie! The acting was great.\",\n",
    "\"The plot was engaging and the characters were well-developed.\",\n",
    "\"The visuals were amazing. Highly recommended.\",\n",
    "\"The movie exceeded my expectations. A must-watch!\"]\n",
    "\n",
    "negative_reviews = [\n",
    "\"The movie was a complete disappointment.\",\n",
    "\"I couldn't stand the acting and the plot was confusing.\",\n",
    "\"The film lacked depth and failed to impress.\",\n",
    "\"It was a waste of time and money.\"]\n",
    "\n",
    "test_reviews = [\n",
    "\"The movie was fantastic! The storyline was captivating.\",\n",
    "\"I didn't enjoy the film. The acting was mediocre.\",\n",
    "\"Overall, the movie was decent, but not exceptional.\",\n",
    "\"The plot had potential, but execution fell short.\"]\n",
    "\n",
    "# True labels for test reviews\n",
    "true_labels = ['pos', 'neg', 'pos', 'neg']"
   ]
  },
  {
   "cell_type": "code",
   "execution_count": 7,
   "id": "7ad160cb",
   "metadata": {},
   "outputs": [
    {
     "name": "stdout",
     "output_type": "stream",
     "text": [
      "Predictions: ['pos', 'neg', 'pos', 'pos']\n",
      "Accuracy: 0.75\n",
      "Most Informative Features\n",
      "                   movie = True              pos : neg    =      1.7 : 1.0\n",
      "                   movie = None              neg : pos    =      1.4 : 1.0\n",
      "                 amazing = None              neg : pos    =      1.3 : 1.0\n",
      "              characters = None              neg : pos    =      1.3 : 1.0\n",
      "                complete = None              pos : neg    =      1.3 : 1.0\n",
      "               confusing = None              pos : neg    =      1.3 : 1.0\n",
      "                 couldnt = None              pos : neg    =      1.3 : 1.0\n",
      "                   depth = None              pos : neg    =      1.3 : 1.0\n",
      "          disappointment = None              pos : neg    =      1.3 : 1.0\n",
      "                engaging = None              neg : pos    =      1.3 : 1.0\n"
     ]
    }
   ],
   "source": [
    "# Build classifier\n",
    "classifier = build_naive_bayes_classifier(positive_reviews, negative_reviews)\n",
    "\n",
    "# Predict\n",
    "predictions = predict_sentiments(classifier, test_reviews)\n",
    "\n",
    "# Evaluate\n",
    "accuracy = evaluate_classifier(predictions, true_labels)\n",
    "\n",
    "print(\"Predictions:\", predictions)\n",
    "print(\"Accuracy:\", accuracy)\n",
    "classifier.show_most_informative_features()"
   ]
  }
 ],
 "metadata": {
  "kernelspec": {
   "display_name": "Python 3",
   "language": "python",
   "name": "python3"
  },
  "language_info": {
   "codemirror_mode": {
    "name": "ipython",
    "version": 3
   },
   "file_extension": ".py",
   "mimetype": "text/x-python",
   "name": "python",
   "nbconvert_exporter": "python",
   "pygments_lexer": "ipython3",
   "version": "3.10.0"
  }
 },
 "nbformat": 4,
 "nbformat_minor": 5
}
