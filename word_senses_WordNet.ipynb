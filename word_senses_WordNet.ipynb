{
 "cells": [
  {
   "cell_type": "code",
   "execution_count": 1,
   "id": "5f519f96",
   "metadata": {},
   "outputs": [
    {
     "name": "stderr",
     "output_type": "stream",
     "text": [
      "[nltk_data] Downloading package wordnet to\n",
      "[nltk_data]     C:\\Users\\HanDong\\AppData\\Roaming\\nltk_data...\n",
      "[nltk_data]   Package wordnet is already up-to-date!\n"
     ]
    },
    {
     "data": {
      "text/plain": [
       "True"
      ]
     },
     "execution_count": 1,
     "metadata": {},
     "output_type": "execute_result"
    }
   ],
   "source": [
    "import nltk\n",
    "from nltk.corpus import wordnet\n",
    "\n",
    "nltk.download(\"wordnet\")"
   ]
  },
  {
   "cell_type": "code",
   "execution_count": null,
   "id": "82bdae81",
   "metadata": {},
   "outputs": [
    {
     "name": "stdout",
     "output_type": "stream",
     "text": [
      "All synsets for 'lead':\n",
      "\n",
      "Synset: lead.n.01\n",
      " - Definition: an advantage held by a competitor in a race\n",
      " - Examples: ['he took the lead at the last turn']\n",
      "\n",
      "Synset: lead.n.02\n",
      " - Definition: a soft heavy toxic malleable metallic element; bluish white when freshly cut but tarnishes readily to dull grey\n",
      " - Examples: ['the children were playing with lead soldiers']\n",
      "\n",
      "Synset: lead.n.03\n",
      " - Definition: evidence pointing to a possible solution\n",
      " - Examples: ['the police are following a promising lead', 'the trail led straight to the perpetrator']\n",
      "\n",
      "Synset: lead.n.04\n",
      " - Definition: a position of leadership (especially in the phrase `take the lead')\n",
      " - Examples: ['he takes the lead in any group', 'we were just waiting for someone to take the lead', \"they didn't follow our lead\"]\n",
      "\n",
      "Synset: lead.n.05\n",
      " - Definition: the angle between the direction a gun is aimed and the position of a moving target (correcting for the flight time of the missile)\n",
      " - Examples: []\n",
      "\n",
      "Synset: lead.n.06\n",
      " - Definition: the introductory section of a story\n",
      " - Examples: ['it was an amusing lead-in to a very serious matter']\n",
      "\n",
      "Synset: lead.n.07\n",
      " - Definition: (sports) the score by which a team or individual is winning\n",
      " - Examples: []\n",
      "\n",
      "Synset: star.n.04\n",
      " - Definition: an actor who plays a principal role\n",
      " - Examples: []\n",
      "\n",
      "Synset: lead.n.09\n",
      " - Definition: (baseball) the position taken by a base runner preparing to advance to the next base\n",
      " - Examples: ['he took a long lead off first']\n",
      "\n",
      "Synset: tip.n.03\n",
      " - Definition: an indication of potential opportunity\n",
      " - Examples: ['he got a tip on the stock market', 'a good lead for a job']\n",
      "\n",
      "Synset: lead.n.11\n",
      " - Definition: a news story of major importance\n",
      " - Examples: []\n",
      "\n",
      "Synset: spark_advance.n.01\n",
      " - Definition: the timing of ignition relative to the position of the piston in an internal-combustion engine\n",
      " - Examples: []\n",
      "\n",
      "Synset: leash.n.01\n",
      " - Definition: restraint consisting of a rope (or light chain) used to restrain an animal\n",
      " - Examples: []\n",
      "\n",
      "Synset: lead.n.14\n",
      " - Definition: thin strip of metal used to separate lines of type in printing\n",
      " - Examples: []\n",
      "\n",
      "Synset: lead.n.15\n",
      " - Definition: mixture of graphite with clay in different degrees of hardness; the marking substance in a pencil\n",
      " - Examples: []\n",
      "\n",
      "Synset: jumper_cable.n.01\n",
      " - Definition: a jumper that consists of a short piece of wire\n",
      " - Examples: ['it was a tangle of jumper cables and clip leads']\n",
      "\n",
      "Synset: lead.n.17\n",
      " - Definition: the playing of a card to start a trick in bridge\n",
      " - Examples: ['the lead was in the dummy']\n",
      "\n",
      "Synset: lead.v.01\n",
      " - Definition: take somebody somewhere\n",
      " - Examples: ['We lead him to our chief', 'can you take me to the main entrance?', 'He conducted us to the palace']\n",
      "\n",
      "Synset: leave.v.07\n",
      " - Definition: have as a result or residue\n",
      " - Examples: ['The water left a mark on the silk dress', 'Her blood left a stain on the napkin']\n",
      "\n",
      "Synset: lead.v.03\n",
      " - Definition: tend to or result in\n",
      " - Examples: ['This remark lead to further arguments among the guests']\n",
      "\n",
      "Synset: lead.v.04\n",
      " - Definition: travel in front of; go in advance of others\n",
      " - Examples: ['The procession was headed by John']\n",
      "\n",
      "Synset: lead.v.05\n",
      " - Definition: cause to undertake a certain action\n",
      " - Examples: ['Her greed led her to forge the checks']\n",
      "\n",
      "Synset: run.v.03\n",
      " - Definition: stretch out over a distance, space, time, or scope; run or extend between two points or beyond a certain point\n",
      " - Examples: ['Service runs all the way to Cranbury', \"His knowledge doesn't go very far\", 'My memory extends back to my fourth year of life', 'The facts extend beyond a consideration of her personal assets']\n",
      "\n",
      "Synset: head.v.02\n",
      " - Definition: be in charge of\n",
      " - Examples: ['Who is heading this project?']\n",
      "\n",
      "Synset: lead.v.08\n",
      " - Definition: be ahead of others; be the first\n",
      " - Examples: ['she topped her class every year']\n",
      "\n",
      "Synset: contribute.v.03\n",
      " - Definition: be conducive to\n",
      " - Examples: ['The use of computers in the classroom lead to better writing']\n",
      "\n",
      "Synset: conduct.v.02\n",
      " - Definition: lead, as in the performance of a composition\n",
      " - Examples: ['conduct an orchestra; Barenboim conducted the Chicago symphony for years']\n",
      "\n",
      "Synset: go.v.25\n",
      " - Definition: lead, extend, or afford access\n",
      " - Examples: ['This door goes to the basement', 'The road runs South']\n",
      "\n",
      "Synset: precede.v.04\n",
      " - Definition: move ahead (of others) in time or space\n",
      " - Examples: []\n",
      "\n",
      "Synset: run.v.23\n",
      " - Definition: cause something to pass or lead somewhere\n",
      " - Examples: ['Run the wire behind the cabinet']\n",
      "\n",
      "Synset: moderate.v.01\n",
      " - Definition: preside over\n",
      " - Examples: ['John moderated the discussion']\n",
      "\n"
     ]
    }
   ],
   "source": [
    "# Choose the word\n",
    "word = \"lead\"\n",
    "\n",
    "# Retrieve all synsets\n",
    "synsets = wordnet.synsets(word)\n",
    "\n",
    "print(f\"All synsets for '{word}':\\n\")\n",
    "for synset in synsets:\n",
    "    print(f\"Synset: {synset.name()}\")\n",
    "    print(f\" - Definition: {synset.definition()}\")\n",
    "    print(f\" - Examples: {synset.examples()}\\n\")"
   ]
  },
  {
   "cell_type": "code",
   "execution_count": null,
   "id": "313f705c",
   "metadata": {},
   "outputs": [
    {
     "name": "stdout",
     "output_type": "stream",
     "text": [
      "Chosen synset: lead.v.04 - travel in front of; go in advance of others\n",
      "\n",
      "Hypernyms (superordinate concepts):\n",
      " - precede.v.04: move ahead (of others) in time or space\n",
      "\n",
      "Hyponyms (subordinate concepts):\n",
      " - draw_away.v.01: move ahead of (one's competitors) in a race\n"
     ]
    }
   ],
   "source": [
    "# Choose one synset\n",
    "syn = wordnet.synset(\"lead.v.04\")\n",
    "\n",
    "print(f\"Chosen synset: {syn.name()} - {syn.definition()}\\n\")\n",
    "\n",
    "# Hypernyms\n",
    "print(\"Hypernyms (superordinate concepts):\")\n",
    "for hypernym in syn.hypernyms():\n",
    "    print(f\" - {hypernym.name()}: {hypernym.definition()}\")\n",
    "\n",
    "# Hyponyms\n",
    "print(\"\\nHyponyms (subordinate concepts):\")\n",
    "for hyponym in syn.hyponyms():\n",
    "    print(f\" - {hyponym.name()}: {hyponym.definition()}\")"
   ]
  },
  {
   "cell_type": "code",
   "execution_count": 4,
   "id": "894ea842",
   "metadata": {},
   "outputs": [
    {
     "name": "stdout",
     "output_type": "stream",
     "text": [
      "Synonyms of lead.v.04: {'lead', 'head'}\n",
      "Antonyms of lead.v.04: set()\n"
     ]
    }
   ],
   "source": [
    "# Extract synonyms and antonyms\n",
    "synonyms = set()\n",
    "antonyms = set()\n",
    "\n",
    "for lemma in bank_syn.lemmas():\n",
    "    synonyms.add(lemma.name())\n",
    "    if lemma.antonyms():\n",
    "        for antonym in lemma.antonyms():\n",
    "            antonyms.add(antonym.name())\n",
    "\n",
    "print(f\"Synonyms of {bank_syn.name()}: {synonyms}\")\n",
    "print(f\"Antonyms of {bank_syn.name()}: {antonyms}\")"
   ]
  }
 ],
 "metadata": {
  "kernelspec": {
   "display_name": "Python 3",
   "language": "python",
   "name": "python3"
  },
  "language_info": {
   "codemirror_mode": {
    "name": "ipython",
    "version": 3
   },
   "file_extension": ".py",
   "mimetype": "text/x-python",
   "name": "python",
   "nbconvert_exporter": "python",
   "pygments_lexer": "ipython3",
   "version": "3.10.0"
  }
 },
 "nbformat": 4,
 "nbformat_minor": 5
}
