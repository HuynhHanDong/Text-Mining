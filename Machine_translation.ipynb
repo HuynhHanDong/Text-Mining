{
 "cells": [
  {
   "cell_type": "code",
   "execution_count": null,
   "id": "76be19cf",
   "metadata": {},
   "outputs": [],
   "source": [
    "from transformers import MarianMTModel, MarianTokenizer\n",
    "from nltk.translate.bleu_score import sentence_bleu\n",
    "from nltk.translate.meteor_score import meteor_score\n",
    "from rouge import Rouge\n",
    "\n",
    "model_name = \"Helsinki-NLP/opus-mt-en-vi\"\n",
    "tokenizer = MarianTokenizer.from_pretrained(model_name)\n",
    "model = MarianMTModel.from_pretrained(model_name)"
   ]
  },
  {
   "cell_type": "code",
   "execution_count": null,
   "id": "ab76edd9",
   "metadata": {},
   "outputs": [],
   "source": [
    "def translate_en_to_vi(sentence: str) -> str:\n",
    "    \"\"\"Translate English sentence to Vietnamese using pre-trained model.\"\"\"\n",
    "    inputs = tokenizer(sentence, return_tensors=\"pt\", padding=True)\n",
    "    translated = model.generate(**inputs)\n",
    "    return tokenizer.decode(translated[0], skip_special_tokens=True)"
   ]
  },
  {
   "cell_type": "code",
   "execution_count": null,
   "id": "4e3dd617",
   "metadata": {},
   "outputs": [],
   "source": [
    "# Example\n",
    "print(\"Translation Example:\")\n",
    "print(\"EN: Hello, how are you?\")\n",
    "print(\"VI:\", translate_en_to_vi(\"Hello, how are you?\"))"
   ]
  },
  {
   "cell_type": "code",
   "execution_count": null,
   "id": "400412ad",
   "metadata": {},
   "outputs": [],
   "source": [
    "def evaluate(sentences):\n",
    "    rouge = Rouge()\n",
    "\n",
    "    bleu_scores, meteor_scores, rouge_scores = [], [], []\n",
    "\n",
    "    for en_sentence, ref_vi in sentences:\n",
    "        pred_vi = translate_en_to_vi(en_sentence)\n",
    "        \n",
    "        # BLEU\n",
    "        bleu = sentence_bleu([ref_vi.split()], pred_vi.split())\n",
    "        bleu_scores.append(bleu)\n",
    "        \n",
    "        # METEOR\n",
    "        meteor = meteor_score([ref_vi.split()], pred_vi.split())\n",
    "        meteor_scores.append(meteor)\n",
    "        \n",
    "        # ROUGE (needs strings)\n",
    "        rouge_result = rouge.get_scores(pred_vi, ref_vi)[0][\"rouge-l\"][\"f\"]\n",
    "        rouge_scores.append(rouge_result)\n",
    "        \n",
    "        print(f\"\\nEN: {en_sentence}\")\n",
    "        print(f\"Reference VI: {ref_vi}\")\n",
    "        print(f\"Predicted VI: {pred_vi}\")\n",
    "        print(f\"BLEU: {bleu:.4f}, METEOR: {meteor:.4f}, ROUGE-L F1: {rouge_result:.4f}\")\n",
    "\n",
    "    print(\"\\n--- AVERAGE METRICS ---\")\n",
    "    print(f\"BLEU: {sum(bleu_scores)/len(bleu_scores):.4f}\")\n",
    "    print(f\"METEOR: {sum(meteor_scores)/len(meteor_scores):.4f}\")\n",
    "    print(f\"ROUGE-L F1: {sum(rouge_scores)/len(rouge_scores):.4f}\")"
   ]
  },
  {
   "cell_type": "code",
   "execution_count": null,
   "id": "31152e69",
   "metadata": {},
   "outputs": [],
   "source": [
    "# Reference dataset (EN sentences + Reference VI translations)\n",
    "examples = [\n",
    "    (\"The weather is nice today.\", \"Thời tiết hôm nay thật đẹp.\"),\n",
    "    (\"I love learning new languages.\", \"Tôi thích học những ngôn ngữ mới.\"),\n",
    "    (\"This book is very interesting.\", \"Cuốn sách này rất thú vị.\"),\n",
    "    (\"Can you help me with my homework?\", \"Bạn có thể giúp tôi làm bài tập về nhà không?\"),\n",
    "]\n",
    "\n",
    "evaluate(examples)"
   ]
  }
 ],
 "metadata": {
  "kernelspec": {
   "display_name": "Python 3",
   "language": "python",
   "name": "python3"
  },
  "language_info": {
   "codemirror_mode": {
    "name": "ipython",
    "version": 3
   },
   "file_extension": ".py",
   "mimetype": "text/x-python",
   "name": "python",
   "nbconvert_exporter": "python",
   "pygments_lexer": "ipython3",
   "version": "3.10.0"
  }
 },
 "nbformat": 4,
 "nbformat_minor": 5
}
