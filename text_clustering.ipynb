{
 "cells": [
  {
   "cell_type": "code",
   "execution_count": 1,
   "id": "46d8f306",
   "metadata": {},
   "outputs": [
    {
     "name": "stderr",
     "output_type": "stream",
     "text": [
      "[nltk_data] Downloading package stopwords to\n",
      "[nltk_data]     C:\\Users\\HanDong\\AppData\\Roaming\\nltk_data...\n",
      "[nltk_data]   Package stopwords is already up-to-date!\n"
     ]
    },
    {
     "data": {
      "text/plain": [
       "True"
      ]
     },
     "execution_count": 1,
     "metadata": {},
     "output_type": "execute_result"
    }
   ],
   "source": [
    "import re\n",
    "import nltk\n",
    "from nltk.corpus import stopwords\n",
    "from nltk.stem import PorterStemmer\n",
    "from sklearn.feature_extraction.text import TfidfVectorizer\n",
    "from sklearn.cluster import KMeans\n",
    "from sklearn.metrics import silhouette_score\n",
    "\n",
    "nltk.download('stopwords')"
   ]
  },
  {
   "cell_type": "code",
   "execution_count": 2,
   "id": "52c7285b",
   "metadata": {},
   "outputs": [],
   "source": [
    "def preprocess_text(text):\n",
    "    text = text.lower()\n",
    "    text = re.sub(r'[^a-z\\s]', '', text)\n",
    "    tokens = text.split()\n",
    "    tokens = [word for word in tokens if word not in stopwords.words('english')]\n",
    "    stemmer = PorterStemmer()\n",
    "    tokens = [stemmer.stem(t) for t in tokens]\n",
    "    return \" \".join(tokens)"
   ]
  },
  {
   "cell_type": "code",
   "execution_count": 3,
   "id": "411b81da",
   "metadata": {},
   "outputs": [],
   "source": [
    "def vectorize_text(documents):\n",
    "    vectorizer = TfidfVectorizer()\n",
    "    X = vectorizer.fit_transform(documents)\n",
    "    return X"
   ]
  },
  {
   "cell_type": "code",
   "execution_count": 4,
   "id": "ca6fe1c6",
   "metadata": {},
   "outputs": [],
   "source": [
    "def perform_clustering(X, num_clusters):\n",
    "    kmeans = KMeans(n_clusters=num_clusters, random_state=42)\n",
    "    cluster_assignments = kmeans.fit_predict(X)\n",
    "    return cluster_assignments"
   ]
  },
  {
   "cell_type": "code",
   "execution_count": 5,
   "id": "a6fd2ec0",
   "metadata": {},
   "outputs": [],
   "source": [
    "def print_cluster_assignments(cluster_assignments, documents):\n",
    "    for i, cluster_id in enumerate(cluster_assignments):\n",
    "        print(f\"Document {i+1} -> Cluster {cluster_id}: {documents[i]}\")"
   ]
  },
  {
   "cell_type": "code",
   "execution_count": 6,
   "id": "d2f3ba63",
   "metadata": {},
   "outputs": [],
   "source": [
    "def evaluate_clustering(X, cluster_assignments):\n",
    "    score = silhouette_score(X, cluster_assignments)\n",
    "    return score"
   ]
  },
  {
   "cell_type": "code",
   "execution_count": 7,
   "id": "0f07f2b4",
   "metadata": {},
   "outputs": [],
   "source": [
    "documents = [    \n",
    "\"Machine learning techniques are used in artificial intelligence applications.\",    \n",
    "\"Natural language processing is a subfield of artificial intelligence.\",    \n",
    "\"Data mining and machine learning are used to analyze large datasets.\",    \n",
    "\"Deep learning models have achieved state-of-the-art results in various tasks.\",   \n",
    "\"Text classification is a common application of natural language processing.\",    \n",
    "\"Recommendation systems use machine learning to suggest relevant items.\",    \n",
    "\"Sentiment analysis aims to determine the sentiment expressed in text data.\",    \n",
    "\"Clustering algorithms group similar data points together.\",    \n",
    "\"Supervised learning requires labeled training data.\",    \n",
    "\"Unsupervised learning explores patterns in unlabeled data.\",\n",
    "\"Reinforcement learning is used to train agents in dynamic environments.\"\n",
    "]"
   ]
  },
  {
   "cell_type": "code",
   "execution_count": 8,
   "id": "5b754bd7",
   "metadata": {},
   "outputs": [
    {
     "name": "stdout",
     "output_type": "stream",
     "text": [
      "machin learn techniqu use artifici intellig applic\n",
      "natur languag process subfield artifici intellig\n",
      "data mine machin learn use analyz larg dataset\n",
      "deep learn model achiev stateoftheart result variou task\n",
      "text classif common applic natur languag process\n",
      "recommend system use machin learn suggest relev item\n",
      "sentiment analysi aim determin sentiment express text data\n",
      "cluster algorithm group similar data point togeth\n",
      "supervis learn requir label train data\n",
      "unsupervis learn explor pattern unlabel data\n",
      "reinforc learn use train agent dynam environ\n"
     ]
    }
   ],
   "source": [
    "# Preprocess all documents\n",
    "preprocessed_docs = []\n",
    "for doc in documents:\n",
    "    preprocessed = preprocess_text(doc)\n",
    "    print(preprocessed)\n",
    "    preprocessed_docs.append(preprocessed)"
   ]
  },
  {
   "cell_type": "code",
   "execution_count": 9,
   "id": "9f638dd6",
   "metadata": {},
   "outputs": [
    {
     "name": "stdout",
     "output_type": "stream",
     "text": [
      "Document 1 -> Cluster 2: Machine learning techniques are used in artificial intelligence applications.\n",
      "Document 2 -> Cluster 0: Natural language processing is a subfield of artificial intelligence.\n",
      "Document 3 -> Cluster 2: Data mining and machine learning are used to analyze large datasets.\n",
      "Document 4 -> Cluster 1: Deep learning models have achieved state-of-the-art results in various tasks.\n",
      "Document 5 -> Cluster 0: Text classification is a common application of natural language processing.\n",
      "Document 6 -> Cluster 2: Recommendation systems use machine learning to suggest relevant items.\n",
      "Document 7 -> Cluster 0: Sentiment analysis aims to determine the sentiment expressed in text data.\n",
      "Document 8 -> Cluster 1: Clustering algorithms group similar data points together.\n",
      "Document 9 -> Cluster 1: Supervised learning requires labeled training data.\n",
      "Document 10 -> Cluster 1: Unsupervised learning explores patterns in unlabeled data.\n",
      "Document 11 -> Cluster 1: Reinforcement learning is used to train agents in dynamic environments.\n",
      "\n",
      "Silhouette Score: 0.03865545107170352\n"
     ]
    }
   ],
   "source": [
    "# Vectorize\n",
    "X = vectorize_text(preprocessed_docs)\n",
    "\n",
    "# Cluster (let's assume 3 clusters)\n",
    "cluster_assignments = perform_clustering(X, num_clusters=3)\n",
    "\n",
    "# Print results\n",
    "print_cluster_assignments(cluster_assignments, documents)\n",
    "\n",
    "# Evaluate\n",
    "score = evaluate_clustering(X, cluster_assignments)\n",
    "print(\"\\nSilhouette Score:\", score)"
   ]
  }
 ],
 "metadata": {
  "kernelspec": {
   "display_name": "Python 3",
   "language": "python",
   "name": "python3"
  },
  "language_info": {
   "codemirror_mode": {
    "name": "ipython",
    "version": 3
   },
   "file_extension": ".py",
   "mimetype": "text/x-python",
   "name": "python",
   "nbconvert_exporter": "python",
   "pygments_lexer": "ipython3",
   "version": "3.10.0"
  }
 },
 "nbformat": 4,
 "nbformat_minor": 5
}
