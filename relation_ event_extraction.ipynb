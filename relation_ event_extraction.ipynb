{
 "cells": [
  {
   "cell_type": "code",
   "execution_count": 1,
   "id": "83277357",
   "metadata": {},
   "outputs": [],
   "source": [
    "import spacy\n",
    "from spacy.matcher import Matcher\n",
    "\n",
    "nlp = spacy.load(\"en_core_web_sm\")\n",
    "relation_matcher = Matcher(nlp.vocab)\n",
    "event_matcher = Matcher(nlp.vocab)"
   ]
  },
  {
   "cell_type": "code",
   "execution_count": null,
   "id": "1eda1387",
   "metadata": {},
   "outputs": [
    {
     "name": "stdout",
     "output_type": "stream",
     "text": [
      "\n",
      "Sentence: John works at Google.\n",
      "Relation: WORKS_AT --> John works at Google\n",
      "\n",
      "Sentence: The cat chased the mouse.\n",
      "Relation: CHASED --> cat chased the mouse\n",
      "\n",
      "Sentence: Alice is married to Bob.\n",
      "Relation: MARRIED_TO --> Alice is married to Bob\n"
     ]
    }
   ],
   "source": [
    "# Define patterns for relations\n",
    "pattern_works_at = [\n",
    "    {\"POS\": {\"IN\": [\"NOUN\", \"PROPN\", \"PRON\"]}},     # Match any noun, proper noun, pronoun\n",
    "    {\"LEMMA\": \"work\"},                              # Lemmatizes verb 'work' (match worked, working)\n",
    "    {\"LOWER\": \"at\"}, \n",
    "    {\"ENT_TYPE\": \"ORG\"}                             # Match organizations (Google, Microsoft,...)\n",
    "]\n",
    "pattern_chased = [\n",
    "    {\"POS\": {\"IN\": [\"NOUN\", \"PROPN\", \"PRON\"]}}, \n",
    "    {\"LEMMA\": \"chase\"}, \n",
    "    {\"POS\": \"DET\", \"OP\": \"?\"},                      # Optional determiner (zero or one occurrence of the, a, an, ...)\n",
    "    {\"POS\": {\"IN\": [\"NOUN\", \"PROPN\"]}, \"OP\": \"+\"}   # One or more occurrences, allow multi-word objects\n",
    "]\n",
    "pattern_married = [\n",
    "    {\"POS\": {\"IN\": [\"NOUN\", \"PROPN\", \"PRON\"]}}, \n",
    "    {\"LOWER\": \"is\"}, \n",
    "    {\"LOWER\": \"married\"}, \n",
    "    {\"LOWER\": \"to\"}, \n",
    "    {\"POS\": {\"IN\": [\"NOUN\", \"PROPN\"]}}\n",
    "]\n",
    "\n",
    "# Add patterns\n",
    "relation_matcher = Matcher(nlp.vocab)\n",
    "relation_matcher.add(\"WORKS_AT\", [pattern_works_at])\n",
    "relation_matcher.add(\"CHASED\", [pattern_chased])\n",
    "relation_matcher.add(\"MARRIED_TO\", [pattern_married])\n",
    "\n",
    "# Example relation sentences\n",
    "relation_sentences = [\n",
    "    \"John works at Google.\",\n",
    "    \"The cat chased the mouse.\",\n",
    "    \"Alice is married to Bob.\"\n",
    "]\n",
    "\n",
    "# Apply matcher\n",
    "for sent in relation_sentences:\n",
    "    doc = nlp(sent)\n",
    "    matches = relation_matcher(doc)\n",
    "    print(f\"\\nSentence: {sent}\")\n",
    "    for match_id, start, end in matches:\n",
    "        span = doc[start:end]\n",
    "        print(f\"Relation: {nlp.vocab.strings[match_id]} --> {span.text}\")\n"
   ]
  },
  {
   "cell_type": "code",
   "execution_count": 3,
   "id": "5ff513e1",
   "metadata": {},
   "outputs": [
    {
     "name": "stdout",
     "output_type": "stream",
     "text": [
      "\n",
      "Sentence: The concert took place on Friday.\n",
      "Event: CONCERT_EVENT --> concert took place on Friday\n",
      "\n",
      "Sentence: The team won the championship.\n",
      "Event: TEAM_WIN_EVENT --> team won the championship\n",
      "\n",
      "Sentence: She celebrated her birthday on Saturday.\n",
      "Event: BIRTHDAY_EVENT --> She celebrated her birthday on Saturday\n"
     ]
    }
   ],
   "source": [
    "# Define event patterns\n",
    "pattern_concert = [\n",
    "    {\"POS\": {\"IN\": [\"NOUN\", \"PROPN\", \"PRON\"]}}, \n",
    "    {\"LEMMA\": \"take\"}, \n",
    "    {\"LOWER\": \"place\"}, \n",
    "    {\"LOWER\": \"on\"}, \n",
    "    {\"ENT_TYPE\": \"DATE\"}\n",
    "]\n",
    "pattern_team_win = [\n",
    "    {\"POS\": {\"IN\": [\"NOUN\", \"PROPN\", \"PRON\"]}}, \n",
    "    {\"LEMMA\": \"win\"}, {\"POS\": \"DET\", \"OP\": \"?\"}, \n",
    "    {\"POS\": {\"IN\": [\"NOUN\", \"PROPN\"]}, \"OP\": \"+\"}\n",
    "]\n",
    "pattern_birthday = [\n",
    "    {\"POS\": {\"IN\": [\"NOUN\", \"PRON\", \"PROPN\"]}}, \n",
    "    {\"LEMMA\": \"celebrate\"}, \n",
    "    {\"LOWER\": {\"IN\": [\"her\", \"his\"]}, \"OP\": \"?\"}, \n",
    "    {\"LOWER\": \"birthday\"}, \n",
    "    {\"LOWER\": \"on\"}, \n",
    "    {\"ENT_TYPE\": \"DATE\"}\n",
    "]\n",
    "\n",
    "# Add patterns\n",
    "event_matcher.add(\"CONCERT_EVENT\", [pattern_concert])\n",
    "event_matcher.add(\"TEAM_WIN_EVENT\", [pattern_team_win])\n",
    "event_matcher.add(\"BIRTHDAY_EVENT\", [pattern_birthday])\n",
    "\n",
    "# Example event sentences\n",
    "event_sentences = [\n",
    "    \"The concert took place on Friday.\",\n",
    "    \"The team won the championship.\",\n",
    "    \"She celebrated her birthday on Saturday.\"\n",
    "]\n",
    "\n",
    "# Apply matcher\n",
    "for sent in event_sentences:\n",
    "    doc = nlp(sent)\n",
    "    matches = event_matcher(doc)\n",
    "    print(f\"\\nSentence: {sent}\")\n",
    "    for match_id, start, end in matches:\n",
    "        span = doc[start:end]\n",
    "        print(f\"Event: {nlp.vocab.strings[match_id]} --> {span.text}\")"
   ]
  }
 ],
 "metadata": {
  "kernelspec": {
   "display_name": "Python 3",
   "language": "python",
   "name": "python3"
  },
  "language_info": {
   "codemirror_mode": {
    "name": "ipython",
    "version": 3
   },
   "file_extension": ".py",
   "mimetype": "text/x-python",
   "name": "python",
   "nbconvert_exporter": "python",
   "pygments_lexer": "ipython3",
   "version": "3.10.0"
  }
 },
 "nbformat": 4,
 "nbformat_minor": 5
}
