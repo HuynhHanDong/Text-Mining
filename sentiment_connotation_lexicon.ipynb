{
 "cells": [
  {
   "cell_type": "code",
   "execution_count": 1,
   "id": "5d48c433",
   "metadata": {},
   "outputs": [],
   "source": [
    "# Sample sentiment lexicon (AFINN-like)\n",
    "sentiment_lexicon = {\n",
    "    \"happy\": 3,\n",
    "    \"joy\": 2,\n",
    "    \"love\": 3,\n",
    "    \"hate\": -3,\n",
    "    \"sad\": -2,\n",
    "    \"angry\": -3,\n",
    "    \"terrible\": -4,\n",
    "    \"good\": 2,\n",
    "    \"bad\": -2\n",
    "}\n",
    "\n",
    "def sentiment_score(text, lexicon=sentiment_lexicon):\n",
    "    words = text.lower().split()\n",
    "    score = 0\n",
    "    for word in words:\n",
    "        score += lexicon.get(word, 0)  # add score if word in lexicon\n",
    "    return score"
   ]
  },
  {
   "cell_type": "code",
   "execution_count": 2,
   "id": "fae6bab6",
   "metadata": {},
   "outputs": [],
   "source": [
    "# Sample connotation lexicons (ANEW/LIWC-like)\n",
    "connotation_lexicon = {\n",
    "    \"happy\": \"joy\",\n",
    "    \"joy\": \"joy\",\n",
    "    \"love\": \"positive\",\n",
    "    \"hate\": \"negative\",\n",
    "    \"sad\": \"sadness\",\n",
    "    \"angry\": \"anger\",\n",
    "    \"terrible\": \"negative\",\n",
    "    \"good\": \"positive\",\n",
    "    \"bad\": \"negative\"\n",
    "}\n",
    "\n",
    "def connotation_analysis(text, lexicon=connotation_lexicon):\n",
    "    words = text.lower().split()\n",
    "    connotation_counts = {}\n",
    "    \n",
    "    for word in words:\n",
    "        category = lexicon.get(word)\n",
    "        if category:\n",
    "            connotation_counts[category] = connotation_counts.get(category, 0) + 1\n",
    "    \n",
    "    return connotation_counts"
   ]
  },
  {
   "cell_type": "code",
   "execution_count": 3,
   "id": "1161a92e",
   "metadata": {},
   "outputs": [
    {
     "name": "stdout",
     "output_type": "stream",
     "text": [
      "I am very happy and full of love\n",
      "- Sentiment Score: 6\n",
      "- Connotation Analysis: {'joy': 1, 'positive': 1}\n",
      "\n",
      "This is a bad and terrible day\n",
      "- Sentiment Score: -6\n",
      "- Connotation Analysis: {'negative': 2}\n",
      "\n",
      "I love this good day but hate the bad\n",
      "- Sentiment Score: 0\n",
      "- Connotation Analysis: {'positive': 2, 'negative': 2}\n",
      "\n",
      "I am happy and full of joy but sometimes sad\n",
      "- Sentiment Score: 3\n",
      "- Connotation Analysis: {'joy': 2, 'sadness': 1}\n",
      "\n",
      "The movie was good but the ending made me sad\n",
      "- Sentiment Score: 0\n",
      "- Connotation Analysis: {'positive': 1, 'sadness': 1}\n",
      "\n"
     ]
    }
   ],
   "source": [
    "examples = [\n",
    "    \"I am very happy and full of love\",\n",
    "    \"This is a bad and terrible day\",\n",
    "    \"I love this good day but hate the bad\",\n",
    "    \"I am happy and full of joy but sometimes sad\",\n",
    "    \"The movie was good but the ending made me sad\"\n",
    "]\n",
    "\n",
    "for sentence in examples:\n",
    "    print(sentence)\n",
    "    print(f\"- Sentiment Score: {sentiment_score(sentence)}\")\n",
    "    print(f\"- Connotation Analysis: {connotation_analysis(sentence)}\\n\")\n"
   ]
  }
 ],
 "metadata": {
  "kernelspec": {
   "display_name": "Python 3",
   "language": "python",
   "name": "python3"
  },
  "language_info": {
   "codemirror_mode": {
    "name": "ipython",
    "version": 3
   },
   "file_extension": ".py",
   "mimetype": "text/x-python",
   "name": "python",
   "nbconvert_exporter": "python",
   "pygments_lexer": "ipython3",
   "version": "3.10.0"
  }
 },
 "nbformat": 4,
 "nbformat_minor": 5
}
