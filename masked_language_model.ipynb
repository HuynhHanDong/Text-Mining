{
 "cells": [
  {
   "cell_type": "code",
   "execution_count": 1,
   "id": "84ef56f3",
   "metadata": {},
   "outputs": [
    {
     "name": "stderr",
     "output_type": "stream",
     "text": [
      "Some weights of the model checkpoint at bert-base-uncased were not used when initializing BertForMaskedLM: ['bert.pooler.dense.bias', 'bert.pooler.dense.weight', 'cls.seq_relationship.bias', 'cls.seq_relationship.weight']\n",
      "- This IS expected if you are initializing BertForMaskedLM from the checkpoint of a model trained on another task or with another architecture (e.g. initializing a BertForSequenceClassification model from a BertForPreTraining model).\n",
      "- This IS NOT expected if you are initializing BertForMaskedLM from the checkpoint of a model that you expect to be exactly identical (initializing a BertForSequenceClassification model from a BertForSequenceClassification model).\n"
     ]
    }
   ],
   "source": [
    "from transformers import BertTokenizer, BertForMaskedLM\n",
    "import torch\n",
    "import random\n",
    "\n",
    "tokenizer = BertTokenizer.from_pretrained(\"bert-base-uncased\")\n",
    "model = BertForMaskedLM.from_pretrained(\"bert-base-uncased\")"
   ]
  },
  {
   "cell_type": "code",
   "execution_count": 2,
   "id": "ad0cf0c7",
   "metadata": {},
   "outputs": [],
   "source": [
    "def mask_tokens(input_ids, mask_prob=0.15):\n",
    "    labels = input_ids.clone()\n",
    "    rand = torch.rand(input_ids.shape)\n",
    "    mask_arr = (rand < mask_prob) & (input_ids != tokenizer.cls_token_id) & (input_ids != tokenizer.sep_token_id) & (input_ids != tokenizer.pad_token_id)\n",
    "\n",
    "    selection = [i for i in range(input_ids.shape[1]) if mask_arr[0, i]]\n",
    "\n",
    "    # Ensure at least one token is masked\n",
    "    if len(selection) == 0:\n",
    "        valid_indices = [i for i in range(1, input_ids.shape[1]-1)]  # avoid [CLS], [SEP]\n",
    "        random_idx = random.choice(valid_indices)\n",
    "        selection = [random_idx]\n",
    "\n",
    "    input_ids[0, selection] = tokenizer.mask_token_id\n",
    "    return input_ids, labels, selection"
   ]
  },
  {
   "cell_type": "code",
   "execution_count": 3,
   "id": "2d9abb74",
   "metadata": {},
   "outputs": [],
   "source": [
    "def decode_tokens(token_ids):\n",
    "    # Merge WordPiece tokens back into full words\n",
    "    tokens = tokenizer.convert_ids_to_tokens(token_ids)\n",
    "    full_words = tokenizer.convert_tokens_to_string(tokens)\n",
    "    return full_words"
   ]
  },
  {
   "cell_type": "code",
   "execution_count": 4,
   "id": "9ad6ba79",
   "metadata": {},
   "outputs": [],
   "source": [
    "def predict_masked_tokens(sentence, mask_prob=0.15, top_k=1):\n",
    "    # Tokenize sentence\n",
    "    inputs = tokenizer(sentence, return_tensors=\"pt\")\n",
    "    input_ids = inputs[\"input_ids\"].clone()\n",
    "\n",
    "    # Mask some tokens\n",
    "    masked_input_ids, labels, selection = mask_tokens(input_ids, mask_prob)\n",
    "\n",
    "    # Run model inference\n",
    "    with torch.no_grad():\n",
    "        outputs = model(masked_input_ids)\n",
    "        predictions = outputs.logits\n",
    "\n",
    "    results = []\n",
    "\n",
    "    # For each masked position, collect top-k predictions\n",
    "    for idx in selection:\n",
    "        topk_ids = torch.topk(predictions[0, idx], k=top_k).indices.tolist()\n",
    "        predicted_words = [decode_tokens([pred_id]) for pred_id in topk_ids]\n",
    "        true_word = decode_tokens([labels[0, idx].item()])\n",
    "\n",
    "        # Result is correct if the true word is in the top-k predictions\n",
    "        accuracy = 1.0 if true_word in predicted_words else 0.0\n",
    "    \n",
    "        results.append({\n",
    "            \"masked_position\": idx,\n",
    "            \"predicted\": predicted_words,\n",
    "            \"true\": true_word,\n",
    "            \"accuracy\": accuracy\n",
    "        })\n",
    "\n",
    "    # Average accuracy for each sentence\n",
    "    avg_acc = sum(result[\"accuracy\"] for result in results) / len(results) if results else 0\n",
    "\n",
    "    return {\n",
    "        \"original\": sentence,\n",
    "        \"masked\": tokenizer.decode(masked_input_ids[0]),\n",
    "        \"results\": results,\n",
    "        \"accuracy\": avg_acc\n",
    "    }"
   ]
  },
  {
   "cell_type": "code",
   "execution_count": 5,
   "id": "87e0dbea",
   "metadata": {},
   "outputs": [],
   "source": [
    "def evaluate_results(sentences, mask_prob=0.15, top_k=1):\n",
    "    results = []\n",
    "    total_accuracy = 0\n",
    "\n",
    "    for sentence in sentences:\n",
    "        result = predict_masked_tokens(sentence, mask_prob, top_k)\n",
    "        results.append(result)\n",
    "        total_accuracy += result[\"accuracy\"]\n",
    "\n",
    "    avg_accuracy = total_accuracy / len(sentences) if sentences else 0\n",
    "    return results, avg_accuracy"
   ]
  },
  {
   "cell_type": "code",
   "execution_count": 6,
   "id": "79da9c7f",
   "metadata": {},
   "outputs": [
    {
     "name": "stdout",
     "output_type": "stream",
     "text": [
      "Original: I study machine learning\n",
      "Masked: [CLS] [MASK] study machine learning [SEP]\n",
      "Predicted: ['to', 'they', 'students', 'i', 'children'] | True: i | Correct: 1.00\n",
      "Sentence Accuracy: 1.00\n",
      "\n",
      "Original: Natural language processing is important\n",
      "Masked: [CLS] natural language [MASK] is important [SEP]\n",
      "Predicted: ['acquisition', 'processing', 'learning', 'teaching', 'use'] | True: processing | Correct: 1.00\n",
      "Sentence Accuracy: 1.00\n",
      "\n",
      "Original: I enjoy working with data\n",
      "Masked: [CLS] i enjoy working [MASK] data [SEP]\n",
      "Predicted: ['with', 'on', 'through', 'out', 'from'] | True: with | Correct: 1.00\n",
      "Sentence Accuracy: 1.00\n",
      "\n",
      "Original: Text mining is an interesting field\n",
      "Masked: [CLS] text mining is [MASK] interesting field [SEP]\n",
      "Predicted: ['an', 'another', 'very', 'one', 'also'] | True: an | Correct: 1.00\n",
      "Sentence Accuracy: 1.00\n",
      "\n",
      "Original: Data analysis is crucial for business\n",
      "Masked: [CLS] data [MASK] is crucial for [MASK] [SEP]\n",
      "Predicted: ['mining', 'collection', 'processing', 'analysis', 'quality'] | True: analysis | Correct: 1.00\n",
      "Predicted: ['.', ';', '|', '!', '?'] | True: business | Correct: 0.00\n",
      "Sentence Accuracy: 0.50\n",
      "\n",
      "Average Accuracy across all sentences: 0.90\n"
     ]
    }
   ],
   "source": [
    "documents = [\n",
    "    \"I study machine learning\",\n",
    "    \"Natural language processing is important\",\n",
    "    \"I enjoy working with data\",\n",
    "    \"Text mining is an interesting field\",\n",
    "    \"Data analysis is crucial for business\",\n",
    "]\n",
    "\n",
    "# Evaluate with top-5 predictions per masked token\n",
    "results, avg_acc = evaluate_results(documents, mask_prob=0.15, top_k=5)\n",
    "\n",
    "for result in results:\n",
    "    print(\"Original:\", result[\"original\"])\n",
    "    print(\"Masked:\", result[\"masked\"])\n",
    "    for res in result[\"results\"]:\n",
    "        print(f\"Predicted: {res['predicted']} | True: {res['true']} | Correct: {res['accuracy']:.2f}\")\n",
    "    print(f\"Sentence Accuracy: {result['accuracy']:.2f}\\n\")\n",
    "\n",
    "print(f\"Average Accuracy across all sentences: {avg_acc:.2f}\")"
   ]
  }
 ],
 "metadata": {
  "kernelspec": {
   "display_name": "Python 3",
   "language": "python",
   "name": "python3"
  },
  "language_info": {
   "codemirror_mode": {
    "name": "ipython",
    "version": 3
   },
   "file_extension": ".py",
   "mimetype": "text/x-python",
   "name": "python",
   "nbconvert_exporter": "python",
   "pygments_lexer": "ipython3",
   "version": "3.10.0"
  }
 },
 "nbformat": 4,
 "nbformat_minor": 5
}
